{
 "cells": [
  {
   "cell_type": "markdown",
   "metadata": {},
   "source": [
    "## Geo-spatial Data Science\n",
    "*-Nikita Kohli*\n",
    "\n",
    "[Resume](https://drive.google.com/file/d/1nqmuTgH5WbDbx4zemROzZL38otoH9-6q/view?usp=sharing)\n",
    "[Linkedin Profile](https://www.linkedin.com/in/nikita-kohli-459569166/)\n",
    "[GitHub Profile](https://github.com/nkofficial-1005)"
   ]
  },
  {
   "cell_type": "markdown",
   "metadata": {},
   "source": [
    "### 1. Installing Library"
   ]
  },
  {
   "cell_type": "code",
   "execution_count": 1,
   "metadata": {},
   "outputs": [],
   "source": [
    "#pip install sentinelsat"
   ]
  },
  {
   "cell_type": "markdown",
   "metadata": {},
   "source": [
    "### 2. Importing Libraries"
   ]
  },
  {
   "cell_type": "code",
   "execution_count": 2,
   "metadata": {},
   "outputs": [],
   "source": [
    "import zipfile\n",
    "from sentinelsat.sentinel import SentinelAPI, read_geojson, geojson_to_wkt"
   ]
  },
  {
   "cell_type": "markdown",
   "metadata": {},
   "source": [
    "### 3. Copernicus Open Access Hub\n",
    "\n",
    "Before using sentinelsat, one need to register a username in Copernicus Open Access Hub and use the username and password to use sentinelsat and download Sentinel Satellite images."
   ]
  },
  {
   "cell_type": "code",
   "execution_count": 3,
   "metadata": {},
   "outputs": [],
   "source": [
    "user = 'nikitakohli' \n",
    "password = 'Ansul@123' \n",
    "api = SentinelAPI(user, password, 'https://scihub.copernicus.eu/dhus')"
   ]
  },
  {
   "cell_type": "markdown",
   "metadata": {},
   "source": [
    "### 4. Define area of interest with a geojson file"
   ]
  },
  {
   "cell_type": "code",
   "execution_count": 4,
   "metadata": {},
   "outputs": [
    {
     "name": "stdout",
     "output_type": "stream",
     "text": [
      "POLYGON((77.2577 28.5401,77.2578 28.5401,77.2578 28.5402,77.2577 28.5402,77.2577 28.5401))\n"
     ]
    }
   ],
   "source": [
    "footprint = geojson_to_wkt(read_geojson(r\"area_of_interest.json\"))\n",
    "print(footprint)"
   ]
  },
  {
   "cell_type": "markdown",
   "metadata": {},
   "source": [
    "### 5. Searching for available images for the specific dates, level of product, and cloud coverage"
   ]
  },
  {
   "cell_type": "code",
   "execution_count": 5,
   "metadata": {},
   "outputs": [
    {
     "name": "stdout",
     "output_type": "stream",
     "text": [
      "3\n"
     ]
    }
   ],
   "source": [
    "products = api.query(footprint,\n",
    "                     date = ('20190601', '20190626'), #Time window\n",
    "                     platformname = 'Sentinel-2',     #Satellite\n",
    "                     processinglevel = 'Level-2A',    #Level of Product\n",
    "                     cloudcoverpercentage = (0,10))   #cloud coverage % of scene\n",
    "\n",
    "print(len(products)) #print the number of images found"
   ]
  },
  {
   "cell_type": "markdown",
   "metadata": {},
   "source": [
    "### 6. Downloading the images"
   ]
  },
  {
   "cell_type": "code",
   "execution_count": 6,
   "metadata": {},
   "outputs": [],
   "source": [
    "for i in products:\n",
    "    api.get_product_odata(i)\n",
    "    api.download(i)"
   ]
  },
  {
   "attachments": {},
   "cell_type": "markdown",
   "metadata": {},
   "source": [
    "### 7. Extracting and viewing images.\n",
    "\n",
    "The folders can be extracted by unzipping S2A_MSIL2A_20190609T052651_N0212_R105_T43RGM_20190609T091600.zip\n",
    "\n",
    "Image data can be located: 'S2B_MSIL2A_20190604T052659_N0212_R105_T43RGM_20190604T094629.SAFE/GRANULE/L2A_T43RGM_A011714_20190604T053306/IMG_DATA', \n",
    "that can be viewed using Adobe Photoshop Elements 12 to get few of the following images:"
   ]
  },
  {
   "cell_type": "code",
   "execution_count": 7,
   "metadata": {},
   "outputs": [],
   "source": [
    "with zipfile.ZipFile(\"S2A_MSIL2A_20190609T052651_N0212_R105_T43RGM_20190609T091600.zip\",\"r\") as zip_ref:\n",
    "    zip_ref.extractall()"
   ]
  },
  {
   "cell_type": "markdown",
   "metadata": {},
   "source": [
    "<img src=\"T43RGM_20190604T052659_TCI_20m.jpeg\">\n",
    "<img src=\"T43RGM_20190604T052659_B05_60m.jpeg\">"
   ]
  },
  {
   "cell_type": "code",
   "execution_count": null,
   "metadata": {},
   "outputs": [],
   "source": []
  }
 ],
 "metadata": {
  "kernelspec": {
   "display_name": "Python 3",
   "language": "python",
   "name": "python3"
  },
  "language_info": {
   "codemirror_mode": {
    "name": "ipython",
    "version": 3
   },
   "file_extension": ".py",
   "mimetype": "text/x-python",
   "name": "python",
   "nbconvert_exporter": "python",
   "pygments_lexer": "ipython3",
   "version": "3.6.5"
  }
 },
 "nbformat": 4,
 "nbformat_minor": 4
}
